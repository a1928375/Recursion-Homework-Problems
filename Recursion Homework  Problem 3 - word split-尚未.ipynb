{
 "cells": [
  {
   "cell_type": "markdown",
   "metadata": {},
   "source": [
    "# Mine-1st 寫不出來，雖然logic類似，但沒有辦法照phrase的sequence\n",
    "# 所以instructor用startswith\n",
    "# 而且用output = None來解決某些variables會被recursion更新的問題"
   ]
  },
  {
   "cell_type": "code",
   "execution_count": 2,
   "metadata": {},
   "outputs": [
    {
     "name": "stdout",
     "output_type": "stream",
     "text": [
      "['the', 'man', 'ran']\n",
      "['the', 'the', 'the']\n",
      "['i', 'love', 'dogs', 'John']\n",
      "[]\n",
      "14.8 µs ± 3.47 µs per loop (mean ± std. dev. of 7 runs, 100000 loops each)\n"
     ]
    }
   ],
   "source": [
    "def word_split(phrase, list_of_words, output = None):\n",
    "    \n",
    "    if output == None:\n",
    "        \n",
    "        output = []\n",
    "        \n",
    "    if phrase == \"\":\n",
    "        \n",
    "        return output\n",
    "        \n",
    "    else:\n",
    "        \n",
    "        checkfirst = len(output)\n",
    "        \n",
    "        for ele in list_of_words:\n",
    "        \n",
    "            if ele == phrase[:len(ele)]:\n",
    "            \n",
    "                output.append(ele)\n",
    "            \n",
    "                phrase = phrase[len(ele):]\n",
    "        \n",
    "        if checkfirst == len(output):\n",
    "            \n",
    "            return output\n",
    "    \n",
    "        return word_split(phrase, list_of_words, output)\n",
    "    \n",
    "    \n",
    "print (word_split('themanran',['the','ran','man']))\n",
    "\n",
    "print (word_split('thethethe',['the','ran','man']))\n",
    "\n",
    "print (word_split('ilovedogsJohn',['i','am','a','dogs','lover','love','John']))\n",
    "\n",
    "print (word_split('themanran',['clown','ran','man']))\n",
    "\n",
    "%timeit word_split('ilovedogsJohnilovedogsJohnilovedogsJohn',['i','am','a','dogs','lover','love','John'])"
   ]
  },
  {
   "cell_type": "markdown",
   "metadata": {},
   "source": [
    "# Instructor"
   ]
  },
  {
   "cell_type": "code",
   "execution_count": null,
   "metadata": {},
   "outputs": [],
   "source": [
    "def word_split(phrase,list_of_words, output = None):\n",
    "    '''\n",
    "    Note: This is a very \"python-y\" solution.\n",
    "    ''' \n",
    "    \n",
    "    # Checks to see if any output has been initiated.\n",
    "    # If you default output=[], it would be overwritten for every recursion!\n",
    "    \n",
    "    # 所以在word_split中寫 output = None，然後底下寫 if output is None => output = []\n",
    "    # 1st叫word_split時，因為此時output沒有任何值，所以output就會是default (因為我們設output = None) => output = None \n",
    "    # => 接著進入word_split的1st line => output = []\n",
    "    \n",
    "    # 2nd叫word_split時，我們是寫 \"return word_split(phrase[len(word):], list_of_words, output)\" => 直接是output\n",
    "    # => 也就是會用 output.append(word)完成後的output當作輸入值\n",
    "    \n",
    "    # 利用一開始讓variable有default值，然後在重覆叫自身function時，讓variable是保持我們要的值的狀態\n",
    "    # => 解決些variables會被recursion更新的問題\n",
    "    \n",
    "    # 其實可以寫 word_split(phrase,list_of_words, output = [])，意思一樣，解釋如 Explanation-1\n",
    "    # => 其實 Explanation-1 是wrong\n",
    "    \n",
    "    # 那在word_split(phrase,list_of_words)底下寫output = []就不行，解釋如 Explanation-2\n",
    "    \n",
    "    \n",
    "    if output is None:\n",
    "        output = []\n",
    "    \n",
    "    # For every word in list\n",
    "    for word in list_of_words:\n",
    "        \n",
    "        # If the current phrase begins with the word, we have a split point!\n",
    "        if phrase.startswith(word):\n",
    "            \n",
    "            # Add the word to the output\n",
    "            output.append(word)\n",
    "            \n",
    "            # Recursively call the split function on the remaining portion of the phrase--- phrase[len(word):]\n",
    "            # Remember to pass along the output and list of words\n",
    "            return word_split(phrase[len(word):],list_of_words,output)\n",
    "    \n",
    "    # Finally return output if no phrase.startswith(word) returns True\n",
    "    return output\n",
    "\n",
    "\n",
    "    # 最後的return不是像普通的recursion:  return n + fun(n-1)\n",
    "    # 因為此處的recursion的result是用list在紀錄\n",
    "    # list是mutable，也就是list已經記錄下每一次的result"
   ]
  },
  {
   "cell_type": "code",
   "execution_count": 3,
   "metadata": {},
   "outputs": [
    {
     "name": "stdout",
     "output_type": "stream",
     "text": [
      "18.5 µs ± 4.3 µs per loop (mean ± std. dev. of 7 runs, 100000 loops each)\n"
     ]
    }
   ],
   "source": [
    "%timeit word_split('ilovedogsJohnilovedogsJohnilovedogsJohn',['i','am','a','dogs','lover','love','John'])"
   ]
  },
  {
   "cell_type": "markdown",
   "metadata": {},
   "source": [
    "# Explanation-1-wrong => 當執行多次word_split時，ans.是wrong，如下\n",
    "# => 就是之前碰到過的ans.包含上一次的results\n",
    "# reason:  https://tinyurl.com/y4hukn6l  & https://tinyurl.com/y5g5y74j\n",
    "# solution:   https://tinyurl.com/y5ofmmlc  => 就是用output = None來解決"
   ]
  },
  {
   "cell_type": "code",
   "execution_count": 1,
   "metadata": {},
   "outputs": [
    {
     "name": "stdout",
     "output_type": "stream",
     "text": [
      "['the', 'man', 'ran']\n",
      "['the', 'man', 'ran', 'i', 'love', 'dogs', 'John']\n"
     ]
    }
   ],
   "source": [
    "def word_split(phrase, list_of_words, output = []):\n",
    "    \n",
    "    # 在word_split中寫 output = [] (default)\n",
    "    # 1st叫word_split時，因為此時output沒有任何值，所以output就會是default (因為我們設output = []) => output = []\n",
    "    \n",
    "    # 2nd叫word_split時，我們是寫 \"return word_split(phrase[len(word):], list_of_words, output)\" => 直接是output\n",
    "    # => 也就是會用 output.append(word)完成後的output當作輸入值\n",
    "        \n",
    "    # 利用一開始讓variable有default值，然後在重覆叫自身function時，讓variable是保持我們要的值的狀態\n",
    "    # => 解決些variables會被recursion更新的問題\n",
    "    \n",
    "    # 解決些variables會被recursion更新的問題\n",
    "\n",
    "    \n",
    "    for word in list_of_words:\n",
    "        \n",
    "         if phrase.startswith(word):\n",
    "            \n",
    "            output.append(word)\n",
    "\n",
    "            return word_split(phrase[len(word):],list_of_words,output)\n",
    "    \n",
    "    return output       \n",
    "    \n",
    "print (word_split('themanran',['the','ran','man']))\n",
    "# ['the', 'man', 'ran']\n",
    "\n",
    "print (word_split('ilovedogsJohn',['i','am','a','dogs','lover','love','John']))\n",
    "# ['i', 'love', 'dogs', 'John']"
   ]
  },
  {
   "cell_type": "markdown",
   "metadata": {},
   "source": [
    "# Explanation-2"
   ]
  },
  {
   "cell_type": "code",
   "execution_count": null,
   "metadata": {},
   "outputs": [],
   "source": [
    "def word_split(phrase, list_of_words):\n",
    "    \n",
    "    output = []\n",
    "    \n",
    "    # 所以在word_split下寫 output = []\n",
    "    # 1st叫word_split時，word_split讓output = []\n",
    "    # 2nd叫word_split時，word_split再次讓output = []\n",
    "    # list是mutable，所以output每次都會被重置 => wrong\n",
    "\n",
    "    \n",
    "    for word in list_of_words:\n",
    "        \n",
    "         if phrase.startswith(word):\n",
    "            \n",
    "            output.append(word)\n",
    "\n",
    "            return word_split(phrase[len(word):],list_of_words)\n",
    "    \n",
    "    return output       \n",
    "    \n",
    "print (word_split('themanran',['the','ran','man']))\n",
    "# ['the', 'man', 'ran']"
   ]
  }
 ],
 "metadata": {
  "kernelspec": {
   "display_name": "Python 3",
   "language": "python",
   "name": "python3"
  },
  "language_info": {
   "codemirror_mode": {
    "name": "ipython",
    "version": 3
   },
   "file_extension": ".py",
   "mimetype": "text/x-python",
   "name": "python",
   "nbconvert_exporter": "python",
   "pygments_lexer": "ipython3",
   "version": "3.7.3"
  }
 },
 "nbformat": 4,
 "nbformat_minor": 2
}
