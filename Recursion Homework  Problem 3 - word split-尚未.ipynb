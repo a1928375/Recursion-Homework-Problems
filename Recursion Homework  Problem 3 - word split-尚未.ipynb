{
 "cells": [
  {
   "cell_type": "markdown",
   "metadata": {},
   "source": [
    "# Mine-寫不出來，雖然logic類似，但沒有辦法照phrase的sequence\n",
    "# 所以instructor用startswith\n",
    "# 而且用output = None來解決某些variables會被recursion更新的問題"
   ]
  },
  {
   "cell_type": "code",
   "execution_count": 2,
   "metadata": {},
   "outputs": [
    {
     "ename": "RecursionError",
     "evalue": "maximum recursion depth exceeded in comparison",
     "output_type": "error",
     "traceback": [
      "\u001b[1;31m---------------------------------------------------------------------------\u001b[0m",
      "\u001b[1;31mRecursionError\u001b[0m                            Traceback (most recent call last)",
      "\u001b[1;32m<ipython-input-2-4e9542905735>\u001b[0m in \u001b[0;36m<module>\u001b[1;34m\u001b[0m\n\u001b[0;32m     17\u001b[0m             \u001b[1;32mreturn\u001b[0m \u001b[0mresult\u001b[0m \u001b[1;33m+\u001b[0m \u001b[0mword_split\u001b[0m\u001b[1;33m(\u001b[0m\u001b[0mphrase\u001b[0m\u001b[1;33m,\u001b[0m \u001b[0mlist_of_words\u001b[0m\u001b[1;33m,\u001b[0m \u001b[0moutput\u001b[0m \u001b[1;33m=\u001b[0m \u001b[1;32mNone\u001b[0m\u001b[1;33m)\u001b[0m\u001b[1;33m\u001b[0m\u001b[1;33m\u001b[0m\u001b[0m\n\u001b[0;32m     18\u001b[0m \u001b[1;33m\u001b[0m\u001b[0m\n\u001b[1;32m---> 19\u001b[1;33m \u001b[0mprint\u001b[0m \u001b[1;33m(\u001b[0m\u001b[0mword_split\u001b[0m\u001b[1;33m(\u001b[0m\u001b[1;34m'themanran'\u001b[0m\u001b[1;33m,\u001b[0m\u001b[1;33m[\u001b[0m\u001b[1;34m'the'\u001b[0m\u001b[1;33m,\u001b[0m\u001b[1;34m'ran'\u001b[0m\u001b[1;33m,\u001b[0m\u001b[1;34m'man'\u001b[0m\u001b[1;33m]\u001b[0m\u001b[1;33m)\u001b[0m\u001b[1;33m)\u001b[0m\u001b[1;33m\u001b[0m\u001b[1;33m\u001b[0m\u001b[0m\n\u001b[0m\u001b[0;32m     20\u001b[0m \u001b[1;31m# ['the', 'man', 'ran']\u001b[0m\u001b[1;33m\u001b[0m\u001b[1;33m\u001b[0m\u001b[1;33m\u001b[0m\u001b[0m\n\u001b[0;32m     21\u001b[0m \u001b[1;33m\u001b[0m\u001b[0m\n",
      "\u001b[1;32m<ipython-input-2-4e9542905735>\u001b[0m in \u001b[0;36mword_split\u001b[1;34m(phrase, list_of_words, output)\u001b[0m\n\u001b[0;32m     15\u001b[0m                 \u001b[0mresult\u001b[0m\u001b[1;33m.\u001b[0m\u001b[0mappend\u001b[0m\u001b[1;33m(\u001b[0m\u001b[0mlist_of_words\u001b[0m\u001b[1;33m[\u001b[0m\u001b[1;36m0\u001b[0m\u001b[1;33m]\u001b[0m\u001b[1;33m)\u001b[0m\u001b[1;33m\u001b[0m\u001b[1;33m\u001b[0m\u001b[0m\n\u001b[0;32m     16\u001b[0m \u001b[1;33m\u001b[0m\u001b[0m\n\u001b[1;32m---> 17\u001b[1;33m             \u001b[1;32mreturn\u001b[0m \u001b[0mresult\u001b[0m \u001b[1;33m+\u001b[0m \u001b[0mword_split\u001b[0m\u001b[1;33m(\u001b[0m\u001b[0mphrase\u001b[0m\u001b[1;33m,\u001b[0m \u001b[0mlist_of_words\u001b[0m\u001b[1;33m,\u001b[0m \u001b[0moutput\u001b[0m \u001b[1;33m=\u001b[0m \u001b[1;32mNone\u001b[0m\u001b[1;33m)\u001b[0m\u001b[1;33m\u001b[0m\u001b[1;33m\u001b[0m\u001b[0m\n\u001b[0m\u001b[0;32m     18\u001b[0m \u001b[1;33m\u001b[0m\u001b[0m\n\u001b[0;32m     19\u001b[0m \u001b[0mprint\u001b[0m \u001b[1;33m(\u001b[0m\u001b[0mword_split\u001b[0m\u001b[1;33m(\u001b[0m\u001b[1;34m'themanran'\u001b[0m\u001b[1;33m,\u001b[0m\u001b[1;33m[\u001b[0m\u001b[1;34m'the'\u001b[0m\u001b[1;33m,\u001b[0m\u001b[1;34m'ran'\u001b[0m\u001b[1;33m,\u001b[0m\u001b[1;34m'man'\u001b[0m\u001b[1;33m]\u001b[0m\u001b[1;33m)\u001b[0m\u001b[1;33m)\u001b[0m\u001b[1;33m\u001b[0m\u001b[1;33m\u001b[0m\u001b[0m\n",
      "... last 1 frames repeated, from the frame below ...\n",
      "\u001b[1;32m<ipython-input-2-4e9542905735>\u001b[0m in \u001b[0;36mword_split\u001b[1;34m(phrase, list_of_words, output)\u001b[0m\n\u001b[0;32m     15\u001b[0m                 \u001b[0mresult\u001b[0m\u001b[1;33m.\u001b[0m\u001b[0mappend\u001b[0m\u001b[1;33m(\u001b[0m\u001b[0mlist_of_words\u001b[0m\u001b[1;33m[\u001b[0m\u001b[1;36m0\u001b[0m\u001b[1;33m]\u001b[0m\u001b[1;33m)\u001b[0m\u001b[1;33m\u001b[0m\u001b[1;33m\u001b[0m\u001b[0m\n\u001b[0;32m     16\u001b[0m \u001b[1;33m\u001b[0m\u001b[0m\n\u001b[1;32m---> 17\u001b[1;33m             \u001b[1;32mreturn\u001b[0m \u001b[0mresult\u001b[0m \u001b[1;33m+\u001b[0m \u001b[0mword_split\u001b[0m\u001b[1;33m(\u001b[0m\u001b[0mphrase\u001b[0m\u001b[1;33m,\u001b[0m \u001b[0mlist_of_words\u001b[0m\u001b[1;33m,\u001b[0m \u001b[0moutput\u001b[0m \u001b[1;33m=\u001b[0m \u001b[1;32mNone\u001b[0m\u001b[1;33m)\u001b[0m\u001b[1;33m\u001b[0m\u001b[1;33m\u001b[0m\u001b[0m\n\u001b[0m\u001b[0;32m     18\u001b[0m \u001b[1;33m\u001b[0m\u001b[0m\n\u001b[0;32m     19\u001b[0m \u001b[0mprint\u001b[0m \u001b[1;33m(\u001b[0m\u001b[0mword_split\u001b[0m\u001b[1;33m(\u001b[0m\u001b[1;34m'themanran'\u001b[0m\u001b[1;33m,\u001b[0m\u001b[1;33m[\u001b[0m\u001b[1;34m'the'\u001b[0m\u001b[1;33m,\u001b[0m\u001b[1;34m'ran'\u001b[0m\u001b[1;33m,\u001b[0m\u001b[1;34m'man'\u001b[0m\u001b[1;33m]\u001b[0m\u001b[1;33m)\u001b[0m\u001b[1;33m)\u001b[0m\u001b[1;33m\u001b[0m\u001b[1;33m\u001b[0m\u001b[0m\n",
      "\u001b[1;31mRecursionError\u001b[0m: maximum recursion depth exceeded in comparison"
     ]
    }
   ],
   "source": [
    "def word_split(phrase, list_of_words, output = None):\n",
    "    \n",
    "    result = []\n",
    "    \n",
    "    if list_of_words == []:\n",
    "        \n",
    "        return result\n",
    "    \n",
    "    else:\n",
    "        \n",
    "        for ele in list_of_words:\n",
    "            \n",
    "            if ele in phrase:\n",
    "                \n",
    "                result.append(list_of_words[0])\n",
    "               \n",
    "            return result + word_split(phrase, list_of_words, output = None)\n",
    "            \n",
    "print (word_split('themanran',['the','ran','man']))\n",
    "# ['the', 'man', 'ran']\n",
    "\n",
    "print (word_split('ilovedogsJohn',['i','am','a','dogs','lover','love','John']))\n",
    "# ['i', 'love', 'dogs', 'John']"
   ]
  },
  {
   "cell_type": "markdown",
   "metadata": {},
   "source": [
    "# Instructor"
   ]
  },
  {
   "cell_type": "code",
   "execution_count": null,
   "metadata": {},
   "outputs": [],
   "source": [
    "def word_split(phrase,list_of_words, output = None):\n",
    "    '''\n",
    "    Note: This is a very \"python-y\" solution.\n",
    "    ''' \n",
    "    \n",
    "    # Checks to see if any output has been initiated.\n",
    "    # If you default output=[], it would be overwritten for every recursion!\n",
    "    \n",
    "    # 所以在word_split中寫 output = None，然後底下寫 if output is None => output = []\n",
    "    # 1st叫word_split時，因為此時output沒有任何值，所以output就會是default (因為我們設output = None) => output = None \n",
    "    # => 接著進入word_split的1st line => output = []\n",
    "    \n",
    "    # 2nd叫word_split時，我們是寫 \"return word_split(phrase[len(word):], list_of_words, output)\" => 直接是output\n",
    "    # => 也就是會用 output.append(word)完成後的output當作輸入值\n",
    "    \n",
    "    # 利用一開始讓variable有default值，然後在重覆叫自身function時，讓variable是保持我們要的值的狀態\n",
    "    # => 解決些variables會被recursion更新的問題\n",
    "    \n",
    "    # 其實可以寫 word_split(phrase,list_of_words, output = [])，意思一樣，解釋如 Explanation-1\n",
    "    # => 其實 Explanation-1 是wrong\n",
    "    \n",
    "    # 那在word_split(phrase,list_of_words)底下寫output = []就不行，解釋如 Explanation-2\n",
    "    \n",
    "    \n",
    "    if output is None:\n",
    "        output = []\n",
    "    \n",
    "    # For every word in list\n",
    "    for word in list_of_words:\n",
    "        \n",
    "        # If the current phrase begins with the word, we have a split point!\n",
    "        if phrase.startswith(word):\n",
    "            \n",
    "            # Add the word to the output\n",
    "            output.append(word)\n",
    "            \n",
    "            # Recursively call the split function on the remaining portion of the phrase--- phrase[len(word):]\n",
    "            # Remember to pass along the output and list of words\n",
    "            return word_split(phrase[len(word):],list_of_words,output)\n",
    "    \n",
    "    # Finally return output if no phrase.startswith(word) returns True\n",
    "    return output\n",
    "\n",
    "\n",
    "    # 最後的return不是像普通的recursion:  return n + fun(n-1)\n",
    "    # 因為此處的recursion的result是用list在紀錄\n",
    "    # list是mutable，也就是list已經記錄下每一次的result"
   ]
  },
  {
   "cell_type": "markdown",
   "metadata": {},
   "source": [
    "# Explanation-1-wrong => 當執行多次word_split時，ans.是wrong，如下\n",
    "# => 就是之前碰到過的ans.包含上一次的results\n",
    "# reason:  https://tinyurl.com/y4hukn6l  & https://tinyurl.com/y5g5y74j\n",
    "# solution:   https://tinyurl.com/y5ofmmlc  => 就是用output = None來解決"
   ]
  },
  {
   "cell_type": "code",
   "execution_count": 1,
   "metadata": {},
   "outputs": [
    {
     "name": "stdout",
     "output_type": "stream",
     "text": [
      "['the', 'man', 'ran']\n",
      "['the', 'man', 'ran', 'i', 'love', 'dogs', 'John']\n"
     ]
    }
   ],
   "source": [
    "def word_split(phrase, list_of_words, output = []):\n",
    "    \n",
    "    # 在word_split中寫 output = [] (default)\n",
    "    # 1st叫word_split時，因為此時output沒有任何值，所以output就會是default (因為我們設output = []) => output = []\n",
    "    \n",
    "    # 2nd叫word_split時，我們是寫 \"return word_split(phrase[len(word):], list_of_words, output)\" => 直接是output\n",
    "    # => 也就是會用 output.append(word)完成後的output當作輸入值\n",
    "        \n",
    "    # 利用一開始讓variable有default值，然後在重覆叫自身function時，讓variable是保持我們要的值的狀態\n",
    "    # => 解決些variables會被recursion更新的問題\n",
    "    \n",
    "    # 解決些variables會被recursion更新的問題\n",
    "\n",
    "    \n",
    "    for word in list_of_words:\n",
    "        \n",
    "         if phrase.startswith(word):\n",
    "            \n",
    "            output.append(word)\n",
    "\n",
    "            return word_split(phrase[len(word):],list_of_words,output)\n",
    "    \n",
    "    return output       \n",
    "    \n",
    "print (word_split('themanran',['the','ran','man']))\n",
    "# ['the', 'man', 'ran']\n",
    "\n",
    "print (word_split('ilovedogsJohn',['i','am','a','dogs','lover','love','John']))\n",
    "# ['i', 'love', 'dogs', 'John']"
   ]
  },
  {
   "cell_type": "markdown",
   "metadata": {},
   "source": [
    "# Explanation-2"
   ]
  },
  {
   "cell_type": "code",
   "execution_count": null,
   "metadata": {},
   "outputs": [],
   "source": [
    "def word_split(phrase, list_of_words):\n",
    "    \n",
    "    output = []\n",
    "    \n",
    "    # 所以在word_split下寫 output = []\n",
    "    # 1st叫word_split時，word_split讓output = []\n",
    "    # 2nd叫word_split時，word_split再次讓output = []\n",
    "    # list是mutable，所以output每次都會被重置 => wrong\n",
    "\n",
    "    \n",
    "    for word in list_of_words:\n",
    "        \n",
    "         if phrase.startswith(word):\n",
    "            \n",
    "            output.append(word)\n",
    "\n",
    "            return word_split(phrase[len(word):],list_of_words)\n",
    "    \n",
    "    return output       \n",
    "    \n",
    "print (word_split('themanran',['the','ran','man']))\n",
    "# ['the', 'man', 'ran']"
   ]
  }
 ],
 "metadata": {
  "kernelspec": {
   "display_name": "Python 3",
   "language": "python",
   "name": "python3"
  },
  "language_info": {
   "codemirror_mode": {
    "name": "ipython",
    "version": 3
   },
   "file_extension": ".py",
   "mimetype": "text/x-python",
   "name": "python",
   "nbconvert_exporter": "python",
   "pygments_lexer": "ipython3",
   "version": "3.7.3"
  }
 },
 "nbformat": 4,
 "nbformat_minor": 2
}
